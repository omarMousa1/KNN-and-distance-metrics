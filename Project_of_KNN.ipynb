{
  "nbformat": 4,
  "nbformat_minor": 0,
  "metadata": {
    "colab": {
      "provenance": []
    },
    "kernelspec": {
      "name": "python3",
      "display_name": "Python 3"
    },
    "language_info": {
      "name": "python"
    }
  },
  "cells": [
    {
      "cell_type": "markdown",
      "source": [
        "# ***Project of KNN***"
      ],
      "metadata": {
        "id": "fLcaQw_QNYme"
      }
    },
    {
      "cell_type": "markdown",
      "source": [
        "## **All imports using in this project.**"
      ],
      "metadata": {
        "id": "pPHIKf51KEVy"
      }
    },
    {
      "cell_type": "code",
      "source": [
        "import numpy as np\n",
        "import pandas as pd\n",
        "from sklearn.neighbors import KNeighborsClassifier\n",
        "from sklearn.model_selection import train_test_split \n",
        "from sklearn.metrics import accuracy_score,confusion_matrix,precision_score,recall_score\n",
        "import matplotlib.pyplot as plt\n",
        "import seaborn as sns"
      ],
      "metadata": {
        "id": "y2zovLC6IF4R"
      },
      "execution_count": null,
      "outputs": []
    },
    {
      "cell_type": "markdown",
      "source": [
        "## **Sorensen distance**"
      ],
      "metadata": {
        "id": "oc_7Y2FFKSLH"
      }
    },
    {
      "cell_type": "code",
      "source": [
        "# here we write sorensen distance(SD) function\n",
        "vSD1 = np.ones(5) # for testing to valid the code\n",
        "vSD2 = np.ones(5) # for testing to valid the code\n",
        "def SD(vSD1, vSD2):  #the Sorensen distance\n",
        "  sum = 0\n",
        "  for i in range(len(vSD1)):\n",
        "    sum = abs(vSD1[i] - vSD2[i]) / (vSD1[i] + vSD2[i]+0.0000001)\n",
        "  return sum\n",
        "SD(vSD1, vSD2)"
      ],
      "metadata": {
        "id": "GMWG96FlNg-U",
        "colab": {
          "base_uri": "https://localhost:8080/"
        },
        "outputId": "b8b599c6-a5ed-415c-bc93-b65e3db0dbcd"
      },
      "execution_count": null,
      "outputs": [
        {
          "output_type": "execute_result",
          "data": {
            "text/plain": [
              "0.0"
            ]
          },
          "metadata": {},
          "execution_count": 2
        }
      ]
    },
    {
      "cell_type": "markdown",
      "source": [
        "## **Additive distance**"
      ],
      "metadata": {
        "id": "9Dy0TkMhKaLP"
      }
    },
    {
      "cell_type": "code",
      "source": [
        "# here we write Additive distance(ASCSD) function\n",
        "vASCSD1 = np.zeros(5) # for testing to valid the code\n",
        "vASCSD2 = np.zeros(5) # for testing to valid the code\n",
        "def ASCSD(vASCSD1, vASCSD2):  # the Additive distance\n",
        "  sum = 0\n",
        "  for i in range(len(vASCSD1)):\n",
        "    sum = pow((vASCSD1[i] - vASCSD2[i]),2) * (vASCSD1[i] + vASCSD2[i]) / (vASCSD1[i] * vASCSD2[i]+0.000001)\n",
        "  return sum*2\n",
        "ASCSD(vASCSD1, vASCSD2) "
      ],
      "metadata": {
        "id": "uYtMlKS9da6k",
        "colab": {
          "base_uri": "https://localhost:8080/"
        },
        "outputId": "c93b83b3-33f2-4366-9659-918e42d610e0"
      },
      "execution_count": null,
      "outputs": [
        {
          "output_type": "execute_result",
          "data": {
            "text/plain": [
              "0.0"
            ]
          },
          "metadata": {},
          "execution_count": 3
        }
      ]
    },
    {
      "cell_type": "markdown",
      "source": [
        "## **Divergence distance**"
      ],
      "metadata": {
        "id": "rKgXB8LmKpYu"
      }
    },
    {
      "cell_type": "code",
      "source": [
        "# here i write Divergence distance(DivD) function\n",
        "vDIVD1 = np.zeros(5) # for testing to valid the code\n",
        "vDIVD2 = np.zeros(5) # for testing to valid the code\n",
        "def DIVD(vDIVD1, vDIVD2):  # the Divergence distance\n",
        "  sum = 0\n",
        "  for i in range(len(vDIVD1)):\n",
        "    sum = pow((vDIVD1[i] - vDIVD2[i]), 2) / pow((vDIVD1[i] + vDIVD2[i] + 0.0000001), 2)\n",
        "  return sum*2\n",
        "DIVD(vDIVD1, vDIVD2)"
      ],
      "metadata": {
        "id": "S-6-veSf_AuF",
        "colab": {
          "base_uri": "https://localhost:8080/"
        },
        "outputId": "561eedb7-45f2-42da-9092-80b73f823a0a"
      },
      "execution_count": null,
      "outputs": [
        {
          "output_type": "execute_result",
          "data": {
            "text/plain": [
              "0.0"
            ]
          },
          "metadata": {},
          "execution_count": 4
        }
      ]
    },
    {
      "cell_type": "markdown",
      "source": [
        "## **Jaccard distance**"
      ],
      "metadata": {
        "id": "gW6eeawWKs7Y"
      }
    },
    {
      "cell_type": "code",
      "source": [
        "# here i write Jaccard distance(JacD) function\n",
        "vJACD1 = np.zeros(5) # for testing to valid the code\n",
        "vJACD2 = np.zeros(5) # for testing to valid the code\n",
        "def JACD(vJACD1, vJACD2):  # the Jaccard distance\n",
        "  sum = 0\n",
        "  for i in range(len(vJACD1)):\n",
        "    sum = pow((vJACD1[i] - vJACD2[i]), 2) / pow(vJACD1[i] + 0.000001, 2) + pow(vJACD2[i], 2) - (vJACD1[i] * vJACD2[i])\n",
        "  return sum\n",
        "JACD(vJACD1, vJACD2)"
      ],
      "metadata": {
        "id": "Iu8fnBGaBMyo",
        "colab": {
          "base_uri": "https://localhost:8080/"
        },
        "outputId": "99098ac9-7847-457b-dc16-03f372ddc634"
      },
      "execution_count": null,
      "outputs": [
        {
          "output_type": "execute_result",
          "data": {
            "text/plain": [
              "0.0"
            ]
          },
          "metadata": {},
          "execution_count": 5
        }
      ]
    },
    {
      "cell_type": "code",
      "source": [
        "Alldistances=[SD, ASCSD, DIVD, JACD]\n",
        "Alldatasets=[\"/content/Covid Data (UP).csv\", \"/content/diabetes.csv\", \"/content/exams(UP).csv\"]\n",
        "accumat=[]\n",
        "\n",
        "for i,distances in zip(Alldistances,['SD', 'ASCSD', 'DIVD', 'JACD']):\n",
        "  for j in Alldatasets:\n",
        "\n",
        "    data = pd.read_csv(j).values\n",
        "\n",
        "    X=data[:,:-1]\n",
        "    y=data[:,-1]\n",
        "    X = X - np.mean(X)/np.std(X)\n",
        "\n",
        "    X_train, X_test, y_train, y_test = train_test_split(X, y, test_size=0.3)\n",
        "\n",
        "    \n",
        "\n",
        "    model = KNeighborsClassifier(metric = i)\n",
        "\n",
        "    model.fit(X_train,y_train)\n",
        "    preds=model.predict(X_test)\n",
        "    \n",
        "    l = (\"\".join(j.split(\"/\")[-1][:-4]),distances,accuracy_score(y_test,preds),\n",
        "         confusion_matrix(y_test,preds), precision_score(y_test,preds),\n",
        "         recall_score(y_test,preds))\n",
        "    accumat.append(l)\n",
        "accumat"
      ],
      "metadata": {
        "id": "ADYC9k78qihx",
        "colab": {
          "base_uri": "https://localhost:8080/"
        },
        "outputId": "0171e853-5201-4ed3-d7ea-f8c83907fe33"
      },
      "execution_count": null,
      "outputs": [
        {
          "output_type": "stream",
          "name": "stderr",
          "text": [
            "/usr/local/lib/python3.8/dist-packages/sklearn/metrics/_classification.py:1318: UndefinedMetricWarning: Precision is ill-defined and being set to 0.0 due to no predicted samples. Use `zero_division` parameter to control this behavior.\n",
            "  _warn_prf(average, modifier, msg_start, len(result))\n"
          ]
        },
        {
          "output_type": "execute_result",
          "data": {
            "text/plain": [
              "[('Covid Data (UP)', 'SD', 0.5844444444444444, array([[  9, 173],\n",
              "         [ 14, 254]]), 0.391304347826087, 0.04945054945054945),\n",
              " ('diabetes', 'SD', 0.670995670995671, array([[143,  11],\n",
              "         [ 65,  12]]), 0.5217391304347826, 0.15584415584415584),\n",
              " ('exams(UP)', 'SD', 0.49, array([[118,  16],\n",
              "         [137,  29]]), 0.6444444444444445, 0.1746987951807229),\n",
              " ('Covid Data (UP)', 'ASCSD', 0.6222222222222222, array([[ 53, 123],\n",
              "         [ 47, 227]]), 0.53, 0.30113636363636365),\n",
              " ('diabetes', 'ASCSD', 0.6277056277056277, array([[121,  22],\n",
              "         [ 64,  24]]), 0.5217391304347826, 0.2727272727272727),\n",
              " ('exams(UP)', 'ASCSD', 0.49333333333333335, array([[127,  16],\n",
              "         [136,  21]]), 0.5675675675675675, 0.1337579617834395),\n",
              " ('Covid Data (UP)', 'DIVD', 0.6111111111111112, array([[ 59, 111],\n",
              "         [ 64, 216]]), 0.4796747967479675, 0.34705882352941175),\n",
              " ('diabetes', 'DIVD', 0.6190476190476191, array([[128,  24],\n",
              "         [ 64,  15]]), 0.38461538461538464, 0.189873417721519),\n",
              " ('exams(UP)', 'DIVD', 0.5, array([[121,  19],\n",
              "         [131,  29]]), 0.6041666666666666, 0.18125),\n",
              " ('Covid Data (UP)', 'JACD', 0.39555555555555555, array([[135,  63],\n",
              "         [209,  43]]), 0.39244186046511625, 0.6818181818181818),\n",
              " ('diabetes', 'JACD', 0.6796536796536796, array([[157,   0],\n",
              "         [ 74,   0]]), 0.0, 0.0),\n",
              " ('exams(UP)', 'JACD', 0.5733333333333334, array([[ 69,  78],\n",
              "         [ 50, 103]]), 0.569060773480663, 0.673202614379085)]"
            ]
          },
          "metadata": {},
          "execution_count": 6
        }
      ]
    },
    {
      "cell_type": "markdown",
      "source": [
        "# **KNN classification** "
      ],
      "metadata": {
        "id": "we-LIcrRKxhO"
      }
    },
    {
      "cell_type": "code",
      "source": [
        "DataF = pd.DataFrame(data = accumat,columns=[\"dataset\",\n",
        "                                             \"distancemetric\",\n",
        "                                             \"accuracy score\",\n",
        "                                             \"confusion matrix\",\n",
        "                                             \"precision\",\n",
        "                                             \"recall\"])\n",
        "DataF"
      ],
      "metadata": {
        "id": "ZGDOs8m-SlN9",
        "colab": {
          "base_uri": "https://localhost:8080/",
          "height": 425
        },
        "outputId": "020fb35f-ece9-418b-84d8-114d7d70a20e"
      },
      "execution_count": null,
      "outputs": [
        {
          "output_type": "execute_result",
          "data": {
            "text/plain": [
              "            dataset distancemetric  accuracy score        confusion matrix  \\\n",
              "0   Covid Data (UP)             SD        0.584444   [[9, 173], [14, 254]]   \n",
              "1          diabetes             SD        0.670996   [[143, 11], [65, 12]]   \n",
              "2         exams(UP)             SD        0.490000  [[118, 16], [137, 29]]   \n",
              "3   Covid Data (UP)          ASCSD        0.622222  [[53, 123], [47, 227]]   \n",
              "4          diabetes          ASCSD        0.627706   [[121, 22], [64, 24]]   \n",
              "5         exams(UP)          ASCSD        0.493333  [[127, 16], [136, 21]]   \n",
              "6   Covid Data (UP)           DIVD        0.611111  [[59, 111], [64, 216]]   \n",
              "7          diabetes           DIVD        0.619048   [[128, 24], [64, 15]]   \n",
              "8         exams(UP)           DIVD        0.500000  [[121, 19], [131, 29]]   \n",
              "9   Covid Data (UP)           JACD        0.395556  [[135, 63], [209, 43]]   \n",
              "10         diabetes           JACD        0.679654     [[157, 0], [74, 0]]   \n",
              "11        exams(UP)           JACD        0.573333   [[69, 78], [50, 103]]   \n",
              "\n",
              "    precision    recall  \n",
              "0    0.391304  0.049451  \n",
              "1    0.521739  0.155844  \n",
              "2    0.644444  0.174699  \n",
              "3    0.530000  0.301136  \n",
              "4    0.521739  0.272727  \n",
              "5    0.567568  0.133758  \n",
              "6    0.479675  0.347059  \n",
              "7    0.384615  0.189873  \n",
              "8    0.604167  0.181250  \n",
              "9    0.392442  0.681818  \n",
              "10   0.000000  0.000000  \n",
              "11   0.569061  0.673203  "
            ],
            "text/html": [
              "\n",
              "  <div id=\"df-bc36bc4e-cbc9-43ca-b8e6-a362a2c1adab\">\n",
              "    <div class=\"colab-df-container\">\n",
              "      <div>\n",
              "<style scoped>\n",
              "    .dataframe tbody tr th:only-of-type {\n",
              "        vertical-align: middle;\n",
              "    }\n",
              "\n",
              "    .dataframe tbody tr th {\n",
              "        vertical-align: top;\n",
              "    }\n",
              "\n",
              "    .dataframe thead th {\n",
              "        text-align: right;\n",
              "    }\n",
              "</style>\n",
              "<table border=\"1\" class=\"dataframe\">\n",
              "  <thead>\n",
              "    <tr style=\"text-align: right;\">\n",
              "      <th></th>\n",
              "      <th>dataset</th>\n",
              "      <th>distancemetric</th>\n",
              "      <th>accuracy score</th>\n",
              "      <th>confusion matrix</th>\n",
              "      <th>precision</th>\n",
              "      <th>recall</th>\n",
              "    </tr>\n",
              "  </thead>\n",
              "  <tbody>\n",
              "    <tr>\n",
              "      <th>0</th>\n",
              "      <td>Covid Data (UP)</td>\n",
              "      <td>SD</td>\n",
              "      <td>0.584444</td>\n",
              "      <td>[[9, 173], [14, 254]]</td>\n",
              "      <td>0.391304</td>\n",
              "      <td>0.049451</td>\n",
              "    </tr>\n",
              "    <tr>\n",
              "      <th>1</th>\n",
              "      <td>diabetes</td>\n",
              "      <td>SD</td>\n",
              "      <td>0.670996</td>\n",
              "      <td>[[143, 11], [65, 12]]</td>\n",
              "      <td>0.521739</td>\n",
              "      <td>0.155844</td>\n",
              "    </tr>\n",
              "    <tr>\n",
              "      <th>2</th>\n",
              "      <td>exams(UP)</td>\n",
              "      <td>SD</td>\n",
              "      <td>0.490000</td>\n",
              "      <td>[[118, 16], [137, 29]]</td>\n",
              "      <td>0.644444</td>\n",
              "      <td>0.174699</td>\n",
              "    </tr>\n",
              "    <tr>\n",
              "      <th>3</th>\n",
              "      <td>Covid Data (UP)</td>\n",
              "      <td>ASCSD</td>\n",
              "      <td>0.622222</td>\n",
              "      <td>[[53, 123], [47, 227]]</td>\n",
              "      <td>0.530000</td>\n",
              "      <td>0.301136</td>\n",
              "    </tr>\n",
              "    <tr>\n",
              "      <th>4</th>\n",
              "      <td>diabetes</td>\n",
              "      <td>ASCSD</td>\n",
              "      <td>0.627706</td>\n",
              "      <td>[[121, 22], [64, 24]]</td>\n",
              "      <td>0.521739</td>\n",
              "      <td>0.272727</td>\n",
              "    </tr>\n",
              "    <tr>\n",
              "      <th>5</th>\n",
              "      <td>exams(UP)</td>\n",
              "      <td>ASCSD</td>\n",
              "      <td>0.493333</td>\n",
              "      <td>[[127, 16], [136, 21]]</td>\n",
              "      <td>0.567568</td>\n",
              "      <td>0.133758</td>\n",
              "    </tr>\n",
              "    <tr>\n",
              "      <th>6</th>\n",
              "      <td>Covid Data (UP)</td>\n",
              "      <td>DIVD</td>\n",
              "      <td>0.611111</td>\n",
              "      <td>[[59, 111], [64, 216]]</td>\n",
              "      <td>0.479675</td>\n",
              "      <td>0.347059</td>\n",
              "    </tr>\n",
              "    <tr>\n",
              "      <th>7</th>\n",
              "      <td>diabetes</td>\n",
              "      <td>DIVD</td>\n",
              "      <td>0.619048</td>\n",
              "      <td>[[128, 24], [64, 15]]</td>\n",
              "      <td>0.384615</td>\n",
              "      <td>0.189873</td>\n",
              "    </tr>\n",
              "    <tr>\n",
              "      <th>8</th>\n",
              "      <td>exams(UP)</td>\n",
              "      <td>DIVD</td>\n",
              "      <td>0.500000</td>\n",
              "      <td>[[121, 19], [131, 29]]</td>\n",
              "      <td>0.604167</td>\n",
              "      <td>0.181250</td>\n",
              "    </tr>\n",
              "    <tr>\n",
              "      <th>9</th>\n",
              "      <td>Covid Data (UP)</td>\n",
              "      <td>JACD</td>\n",
              "      <td>0.395556</td>\n",
              "      <td>[[135, 63], [209, 43]]</td>\n",
              "      <td>0.392442</td>\n",
              "      <td>0.681818</td>\n",
              "    </tr>\n",
              "    <tr>\n",
              "      <th>10</th>\n",
              "      <td>diabetes</td>\n",
              "      <td>JACD</td>\n",
              "      <td>0.679654</td>\n",
              "      <td>[[157, 0], [74, 0]]</td>\n",
              "      <td>0.000000</td>\n",
              "      <td>0.000000</td>\n",
              "    </tr>\n",
              "    <tr>\n",
              "      <th>11</th>\n",
              "      <td>exams(UP)</td>\n",
              "      <td>JACD</td>\n",
              "      <td>0.573333</td>\n",
              "      <td>[[69, 78], [50, 103]]</td>\n",
              "      <td>0.569061</td>\n",
              "      <td>0.673203</td>\n",
              "    </tr>\n",
              "  </tbody>\n",
              "</table>\n",
              "</div>\n",
              "      <button class=\"colab-df-convert\" onclick=\"convertToInteractive('df-bc36bc4e-cbc9-43ca-b8e6-a362a2c1adab')\"\n",
              "              title=\"Convert this dataframe to an interactive table.\"\n",
              "              style=\"display:none;\">\n",
              "        \n",
              "  <svg xmlns=\"http://www.w3.org/2000/svg\" height=\"24px\"viewBox=\"0 0 24 24\"\n",
              "       width=\"24px\">\n",
              "    <path d=\"M0 0h24v24H0V0z\" fill=\"none\"/>\n",
              "    <path d=\"M18.56 5.44l.94 2.06.94-2.06 2.06-.94-2.06-.94-.94-2.06-.94 2.06-2.06.94zm-11 1L8.5 8.5l.94-2.06 2.06-.94-2.06-.94L8.5 2.5l-.94 2.06-2.06.94zm10 10l.94 2.06.94-2.06 2.06-.94-2.06-.94-.94-2.06-.94 2.06-2.06.94z\"/><path d=\"M17.41 7.96l-1.37-1.37c-.4-.4-.92-.59-1.43-.59-.52 0-1.04.2-1.43.59L10.3 9.45l-7.72 7.72c-.78.78-.78 2.05 0 2.83L4 21.41c.39.39.9.59 1.41.59.51 0 1.02-.2 1.41-.59l7.78-7.78 2.81-2.81c.8-.78.8-2.07 0-2.86zM5.41 20L4 18.59l7.72-7.72 1.47 1.35L5.41 20z\"/>\n",
              "  </svg>\n",
              "      </button>\n",
              "      \n",
              "  <style>\n",
              "    .colab-df-container {\n",
              "      display:flex;\n",
              "      flex-wrap:wrap;\n",
              "      gap: 12px;\n",
              "    }\n",
              "\n",
              "    .colab-df-convert {\n",
              "      background-color: #E8F0FE;\n",
              "      border: none;\n",
              "      border-radius: 50%;\n",
              "      cursor: pointer;\n",
              "      display: none;\n",
              "      fill: #1967D2;\n",
              "      height: 32px;\n",
              "      padding: 0 0 0 0;\n",
              "      width: 32px;\n",
              "    }\n",
              "\n",
              "    .colab-df-convert:hover {\n",
              "      background-color: #E2EBFA;\n",
              "      box-shadow: 0px 1px 2px rgba(60, 64, 67, 0.3), 0px 1px 3px 1px rgba(60, 64, 67, 0.15);\n",
              "      fill: #174EA6;\n",
              "    }\n",
              "\n",
              "    [theme=dark] .colab-df-convert {\n",
              "      background-color: #3B4455;\n",
              "      fill: #D2E3FC;\n",
              "    }\n",
              "\n",
              "    [theme=dark] .colab-df-convert:hover {\n",
              "      background-color: #434B5C;\n",
              "      box-shadow: 0px 1px 3px 1px rgba(0, 0, 0, 0.15);\n",
              "      filter: drop-shadow(0px 1px 2px rgba(0, 0, 0, 0.3));\n",
              "      fill: #FFFFFF;\n",
              "    }\n",
              "  </style>\n",
              "\n",
              "      <script>\n",
              "        const buttonEl =\n",
              "          document.querySelector('#df-bc36bc4e-cbc9-43ca-b8e6-a362a2c1adab button.colab-df-convert');\n",
              "        buttonEl.style.display =\n",
              "          google.colab.kernel.accessAllowed ? 'block' : 'none';\n",
              "\n",
              "        async function convertToInteractive(key) {\n",
              "          const element = document.querySelector('#df-bc36bc4e-cbc9-43ca-b8e6-a362a2c1adab');\n",
              "          const dataTable =\n",
              "            await google.colab.kernel.invokeFunction('convertToInteractive',\n",
              "                                                     [key], {});\n",
              "          if (!dataTable) return;\n",
              "\n",
              "          const docLinkHtml = 'Like what you see? Visit the ' +\n",
              "            '<a target=\"_blank\" href=https://colab.research.google.com/notebooks/data_table.ipynb>data table notebook</a>'\n",
              "            + ' to learn more about interactive tables.';\n",
              "          element.innerHTML = '';\n",
              "          dataTable['output_type'] = 'display_data';\n",
              "          await google.colab.output.renderOutput(dataTable, element);\n",
              "          const docLink = document.createElement('div');\n",
              "          docLink.innerHTML = docLinkHtml;\n",
              "          element.appendChild(docLink);\n",
              "        }\n",
              "      </script>\n",
              "    </div>\n",
              "  </div>\n",
              "  "
            ]
          },
          "metadata": {},
          "execution_count": 7
        }
      ]
    },
    {
      "cell_type": "code",
      "source": [
        "sns.barplot(data=DataF,x = \"distancemetric\",y = 'accuracy score',hue='dataset' )\n",
        "plt.legend(bbox_to_anchor=(1,1))"
      ],
      "metadata": {
        "colab": {
          "base_uri": "https://localhost:8080/",
          "height": 297
        },
        "id": "1fa0DLYWvvhP",
        "outputId": "b0430f2c-7ee7-4189-a4c4-9866a097e472"
      },
      "execution_count": null,
      "outputs": [
        {
          "output_type": "execute_result",
          "data": {
            "text/plain": [
              "<matplotlib.legend.Legend at 0x7f5e8fabcd90>"
            ]
          },
          "metadata": {},
          "execution_count": 8
        },
        {
          "output_type": "display_data",
          "data": {
            "text/plain": [
              "<Figure size 432x288 with 1 Axes>"
            ],
            "image/png": "[encoded data removed]"
          },
          "metadata": {
            "needs_background": "light"
          }
        }
      ]
    },
    {
      "cell_type": "code",
      "source": [
        "sns.barplot(data=DataF,x = \"distancemetric\",y = 'precision',hue='dataset' )\n",
        "plt.legend(bbox_to_anchor=(1,1))"
      ],
      "metadata": {
        "colab": {
          "base_uri": "https://localhost:8080/",
          "height": 297
        },
        "id": "1mTWIuH245IL",
        "outputId": "44dbf84f-7772-4436-9685-486fbd23b4aa"
      },
      "execution_count": null,
      "outputs": [
        {
          "output_type": "execute_result",
          "data": {
            "text/plain": [
              "<matplotlib.legend.Legend at 0x7f5ea34cb580>"
            ]
          },
          "metadata": {},
          "execution_count": 9
        },
        {
          "output_type": "display_data",
          "data": {
            "text/plain": [
              "<Figure size 432x288 with 1 Axes>"
            ],
            "image/png": "[encoded data removed]"
          },
          "metadata": {
            "needs_background": "light"
          }
        }
      ]
    },
    {
      "cell_type": "code",
      "source": [
        "sns.barplot(data=DataF,x = \"distancemetric\",y = 'recall',hue='dataset' )\n",
        "plt.legend(bbox_to_anchor=(1,1))"
      ],
      "metadata": {
        "colab": {
          "base_uri": "https://localhost:8080/",
          "height": 297
        },
        "id": "T1BkAYcl45t-",
        "outputId": "81afe811-e60c-4ebd-d56c-e64c1a81eda1"
      },
      "execution_count": null,
      "outputs": [
        {
          "output_type": "execute_result",
          "data": {
            "text/plain": [
              "<matplotlib.legend.Legend at 0x7f5e8f3ebaf0>"
            ]
          },
          "metadata": {},
          "execution_count": 10
        },
        {
          "output_type": "display_data",
          "data": {
            "text/plain": [
              "<Figure size 432x288 with 1 Axes>"
            ],
            "image/png": "[encoded data removed]"
          },
          "metadata": {
            "needs_background": "light"
          }
        }
      ]
    },
    {
      "cell_type": "code",
      "source": [],
      "metadata": {
        "id": "h5QpJ1S7AP-H"
      },
      "execution_count": null,
      "outputs": []
    }
  ]
}